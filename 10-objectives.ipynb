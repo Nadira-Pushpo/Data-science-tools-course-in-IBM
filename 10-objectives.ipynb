{
 "cells": [
  {
   "cell_type": "markdown",
   "id": "b9c3e08f-e6a1-49c8-a244-9dce4745bbf6",
   "metadata": {},
   "source": [
    "# Data Science Tools and Ecosystem in IBM\n",
    "This course teaches you about the popular tools in Data Science.\n",
    "\n",
    "Using a variety of tools such as data exploration, anomaly detetion or machine learning algorithms in Data Science \n",
    "can help businesses find patterns from historical data. These patterns can help businesses make new innovations or revive past schemes - to better their businesses.\n",
    "\n",
    " * Popular data science tools * \n",
    " \n",
    " •  SQL\n",
    " \n",
    " •  Java\n",
    " \n",
    " •  Apache Spark\n",
    " \n",
    " •  Tensorflow\n",
    " \n",
    " •  Git\n"
   ]
  },
  {
   "cell_type": "code",
   "execution_count": null,
   "id": "8e3ccde7-c7d6-4917-b52a-c4c0482f785f",
   "metadata": {},
   "outputs": [],
   "source": []
  }
 ],
 "metadata": {
  "kernelspec": {
   "display_name": "anaconda-panel-2023.05-py310",
   "language": "python",
   "name": "conda-env-anaconda-panel-2023.05-py310-py"
  },
  "language_info": {
   "codemirror_mode": {
    "name": "ipython",
    "version": 3
   },
   "file_extension": ".py",
   "mimetype": "text/x-python",
   "name": "python",
   "nbconvert_exporter": "python",
   "pygments_lexer": "ipython3",
   "version": "3.11.5"
  }
 },
 "nbformat": 4,
 "nbformat_minor": 5
}
