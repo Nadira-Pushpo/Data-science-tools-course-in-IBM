{
 "cells": [
  {
   "cell_type": "markdown",
   "id": "6fb425cc-06aa-4c24-91a6-df4f5b152bdd",
   "metadata": {},
   "source": [
    " # Data science library for python \n",
    " \n",
    "Python< in Data Science< is its extensive library support for data science and analytics. There are many Python libraries that contain a host of functions, tools, and methods to manage and analyze data. Each of these libraries has a particular focus with some libraries managing image and textual data, data mining, neural networks, data visualization, and so on. Here we have divided the top Python libraries for Data Science into those focusing on data processing and data visualization respectively. \n",
    "1. Pandas \n",
    "2. NumPy \n",
    "3. SciPy \n",
    "4. Scikit-learn \n",
    "5. Tensorflow \n",
    "6. Keras "
   ]
  },
  {
   "cell_type": "code",
   "execution_count": null,
   "id": "3c9ac5a4-92d5-4d52-932a-3eb187fab5a3",
   "metadata": {},
   "outputs": [],
   "source": []
  }
 ],
 "metadata": {
  "kernelspec": {
   "display_name": "anaconda-panel-2023.05-py310",
   "language": "python",
   "name": "conda-env-anaconda-panel-2023.05-py310-py"
  },
  "language_info": {
   "codemirror_mode": {
    "name": "ipython",
    "version": 3
   },
   "file_extension": ".py",
   "mimetype": "text/x-python",
   "name": "python",
   "nbconvert_exporter": "python",
   "pygments_lexer": "ipython3",
   "version": "3.11.5"
  }
 },
 "nbformat": 4,
 "nbformat_minor": 5
}
