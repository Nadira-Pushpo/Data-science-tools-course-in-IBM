{
 "cells": [
  {
   "cell_type": "markdown",
   "id": "70afc862-6529-456c-8ea6-9db741105616",
   "metadata": {},
   "source": [
    " # Data Science Tools and Ecosystem in IBM \n",
    "\n",
    "This course teaches you about the popular tools in Data Science and how to use them. \n",
    "\n",
    " ## Jupyter \n",
    "Jupyter, an acronym meaning Julia, Python, and R is an open-source web application or tool which allows you to explore share, and discuss the data. With this, you can create and share documents containing live codes, visualizations, equations, and narrative texts. \n",
    "\n",
    " ## Jupyter light \n",
    "JupyterLite is a JupyterLab distribution that runs entirely in the browser built from the ground-up using JupyterLab components and extensions. "
   ]
  },
  {
   "cell_type": "code",
   "execution_count": null,
   "id": "ee369f5a-ed0a-4d58-8314-2c82471c3af4",
   "metadata": {},
   "outputs": [],
   "source": []
  },
  {
   "cell_type": "code",
   "execution_count": null,
   "id": "240967c0-13ae-4c3a-88d7-f2312a612b27",
   "metadata": {},
   "outputs": [],
   "source": []
  }
 ],
 "metadata": {
  "kernelspec": {
   "display_name": "anaconda-panel-2023.05-py310",
   "language": "python",
   "name": "conda-env-anaconda-panel-2023.05-py310-py"
  },
  "language_info": {
   "codemirror_mode": {
    "name": "ipython",
    "version": 3
   },
   "file_extension": ".py",
   "mimetype": "text/x-python",
   "name": "python",
   "nbconvert_exporter": "python",
   "pygments_lexer": "ipython3",
   "version": "3.11.5"
  }
 },
 "nbformat": 4,
 "nbformat_minor": 5
}
