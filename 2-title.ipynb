{
 "cells": [
  {
   "cell_type": "markdown",
   "id": "c83e3626-37bc-463f-b98e-a597f5eadd0c",
   "metadata": {},
   "source": [
    "# DataScienceToolsandEcosystem \n",
    "In this part of course i have learned about various tolls those helps data scientist to have better outcome. "
   ]
  },
  {
   "cell_type": "code",
   "execution_count": null,
   "id": "709c3055-0637-4f52-b6e5-f02d8a3d54bd",
   "metadata": {},
   "outputs": [],
   "source": []
  }
 ],
 "metadata": {
  "kernelspec": {
   "display_name": "anaconda-panel-2023.05-py310",
   "language": "python",
   "name": "conda-env-anaconda-panel-2023.05-py310-py"
  },
  "language_info": {
   "codemirror_mode": {
    "name": "ipython",
    "version": 3
   },
   "file_extension": ".py",
   "mimetype": "text/x-python",
   "name": "python",
   "nbconvert_exporter": "python",
   "pygments_lexer": "ipython3",
   "version": "3.11.5"
  }
 },
 "nbformat": 4,
 "nbformat_minor": 5
}
