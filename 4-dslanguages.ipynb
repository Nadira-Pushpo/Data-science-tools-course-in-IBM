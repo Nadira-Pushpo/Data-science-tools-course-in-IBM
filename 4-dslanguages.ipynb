{
 "cells": [
  {
   "cell_type": "markdown",
   "id": "1c017c59-d41b-4323-ab7d-47b0c569817a",
   "metadata": {},
   "source": [
    "## Top data science languages are-\n",
    "\n",
    "1. Python \n",
    "2. R \n",
    "3. SQL \n",
    "4. Java \n",
    "5. Julia \n",
    "6. Scala \n",
    "7. C/C++ \n",
    "8. JavaScript \n",
    "9. Swift \n",
    "10. Go \n",
    "11. MATLAB \n",
    "12. SAS "
   ]
  },
  {
   "cell_type": "code",
   "execution_count": null,
   "id": "a9ffa485-9324-4b7b-9aae-545a6551f795",
   "metadata": {},
   "outputs": [],
   "source": []
  }
 ],
 "metadata": {
  "kernelspec": {
   "display_name": "anaconda-panel-2023.05-py310",
   "language": "python",
   "name": "conda-env-anaconda-panel-2023.05-py310-py"
  },
  "language_info": {
   "codemirror_mode": {
    "name": "ipython",
    "version": 3
   },
   "file_extension": ".py",
   "mimetype": "text/x-python",
   "name": "python",
   "nbconvert_exporter": "python",
   "pygments_lexer": "ipython3",
   "version": "3.11.5"
  }
 },
 "nbformat": 4,
 "nbformat_minor": 5
}
