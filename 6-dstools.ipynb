{
 "cells": [
  {
   "cell_type": "markdown",
   "id": "e72a80a6-5df1-4ee4-8db9-971950c75cad",
   "metadata": {},
   "source": [
    "## A table of Data Science tools \n",
    "\n",
    "|Data Science Tools Name |Developer |\n",
    "|-------------------------|-----------|\n",
    "|TensorFlow| Google|\n",
    "|Tableau| Chris Stolte, Pat Hanrahan, and Christian Chabot|\n",
    "|Python| Guido van Rossum| \n"
   ]
  },
  {
   "cell_type": "code",
   "execution_count": null,
   "id": "eb440d47-25bd-4086-a05c-555f34e98fa4",
   "metadata": {},
   "outputs": [],
   "source": []
  }
 ],
 "metadata": {
  "kernelspec": {
   "display_name": "anaconda-panel-2023.05-py310",
   "language": "python",
   "name": "conda-env-anaconda-panel-2023.05-py310-py"
  },
  "language_info": {
   "codemirror_mode": {
    "name": "ipython",
    "version": 3
   },
   "file_extension": ".py",
   "mimetype": "text/x-python",
   "name": "python",
   "nbconvert_exporter": "python",
   "pygments_lexer": "ipython3",
   "version": "3.11.5"
  }
 },
 "nbformat": 4,
 "nbformat_minor": 5
}
