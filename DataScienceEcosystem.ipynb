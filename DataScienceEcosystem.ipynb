{
 "cells": [
  {
   "cell_type": "markdown",
   "id": "53a3c39c-0621-470b-8fc6-b171aaec1131",
   "metadata": {},
   "source": []
  },
  {
   "cell_type": "markdown",
   "id": "be021595-c7cb-4e82-8642-e9423f7e5d15",
   "metadata": {},
   "source": []
  },
  {
   "cell_type": "markdown",
   "id": "1f750885-ad17-4c96-8d77-5546cd9b8e15",
   "metadata": {},
   "source": []
  }
 ],
 "metadata": {
  "kernelspec": {
   "display_name": "anaconda-panel-2023.05-py310",
   "language": "python",
   "name": "conda-env-anaconda-panel-2023.05-py310-py"
  },
  "language_info": {
   "codemirror_mode": {
    "name": "ipython",
    "version": 3
   },
   "file_extension": ".py",
   "mimetype": "text/x-python",
   "name": "python",
   "nbconvert_exporter": "python",
   "pygments_lexer": "ipython3",
   "version": "3.11.5"
  }
 },
 "nbformat": 4,
 "nbformat_minor": 5
}
