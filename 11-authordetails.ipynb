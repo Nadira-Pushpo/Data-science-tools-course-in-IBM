{
 "cells": [
  {
   "cell_type": "markdown",
   "id": "f0db841c-6544-431c-bd69-af7b0bf19a17",
   "metadata": {},
   "source": [
    "# Author:\n",
    "Nadira Akter Puspo"
   ]
  },
  {
   "cell_type": "code",
   "execution_count": null,
   "id": "c2b5a4aa-a2ba-404e-bc22-4beb8cc9b4cf",
   "metadata": {},
   "outputs": [],
   "source": []
  }
 ],
 "metadata": {
  "kernelspec": {
   "display_name": "anaconda-panel-2023.05-py310",
   "language": "python",
   "name": "conda-env-anaconda-panel-2023.05-py310-py"
  },
  "language_info": {
   "codemirror_mode": {
    "name": "ipython",
    "version": 3
   },
   "file_extension": ".py",
   "mimetype": "text/x-python",
   "name": "python",
   "nbconvert_exporter": "python",
   "pygments_lexer": "ipython3",
   "version": "3.11.5"
  }
 },
 "nbformat": 4,
 "nbformat_minor": 5
}
